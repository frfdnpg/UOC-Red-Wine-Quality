{
 "cells": [
  {
   "cell_type": "markdown",
   "metadata": {},
   "source": [
    "# Práctica 2: Limpieza y validación de los datos"
   ]
  },
  {
   "cell_type": "markdown",
   "metadata": {},
   "source": [
    "####                                           Francisco Ramirez Fominaya   -    6 de enero de 2019"
   ]
  },
  {
   "cell_type": "markdown",
   "metadata": {},
   "source": [
    "## Indice\n",
    "\n",
    "- 1.- Descripción del dataset.\n",
    "- 2.- Integración y selección de los datos de interés a analizar.\n",
    "- 3.- Limpieza de los datos. \n",
    "- 4.- Análisis de los datos.\n",
    "- 5.- Representación de los resultados a partir de tablas y gráficas.\n",
    "- 6.- Resolución del problema. Conclusiones\n",
    "- 7.- Código"
   ]
  },
  {
   "cell_type": "markdown",
   "metadata": {},
   "source": [
    "## 1.- Descripción del dataset."
   ]
  },
  {
   "cell_type": "markdown",
   "metadata": {},
   "source": [
    "Este dataset está relacionado con las variantes rojas del vino portugués \"Vinho Verde\" de la región noroeste, llamada Minho, de Portugal. Para más detalles, consultar la referencia [Cortez et al., 2009](http://www3.dsi.uminho.pt/pcortez/wine/). Debido a cuestiones de privacidad y logística, solo están disponibles las variables fisicoquímicas (entradas) y sensoriales (la salida) (por ejemplo, no contempla datos sobre tipos de uva, marca de vino, precio de venta del vino, etc.).\n",
    "\n",
    "Se considera un conjunto de datos grande en esta área. Las clases están ordenadas y no son equilibradas (por ejemplo, hay vinos mucho más normales que excelentes o pobres).\n",
    "\n",
    "El conjunto de datos objeto de análisis se ha obtenido a partir de este enlace en en el repositorio de aprendizaje automático de la [UCI](https://archive.ics.uci.edu/ml/datasets/wine+quality) y está constituido por 12 atributos o características (columnas) que contiene 1.599 muestras (filas o registros). Entre los campos de este conjunto de datos, encontramos los siguientes:\n",
    "- Atributos de entrada basado en pruebas fisicoquímicas: \n",
    "    - 1 - fixed acidity: acidez fija. La mayoría de los ácidos involucrados con el vino no son  volátiles (no se evaporan fácilmente).\n",
    "    - 2 - volatile acidity: acidez volátil. La cantidad de ácido acético en el vino, que en niveles demasiado altos puede llevar a un sabor desagradable a vinagre.\n",
    "    - 3 - citric acid: ácido cítrico. En pequeñas cantidades, el ácido cítrico puede agregar 'frescura' y sabor a los vinos. Además, ensalza las características aromáticas afrutadas.\n",
    "    - 4 - residual sugar: azucar residual. Es la cantidad de azúcar restante después de que se detiene la fermentación, es raro encontrar vinos con menos de 1 gramo / litro y los vinos con más de 45 gramos / litro se consideran dulces.\n",
    "    - 5 - chlorides: cloruros. La cantidad de sal en el vino.\n",
    "    - 6 - free sulfur dioxide: dióxido de azufre libre. La forma libre de SO2 existe en equilibrio entre el SO2 molecular (como un gas disuelto) y el ión bisulfito. Previene el crecimiento microbiano y la oxidación del vino.\n",
    "    - 7 - total sulfur dioxide: dióxido de azufre total. Es la cantidad de formas libres y ligadas de S02. En bajas concentraciones, el SO2 es mayormente indetectable en el vino, pero a concentraciones de SO2 libres superiores a 50 ppm, el SO2 se hace evidente en la nariz y el sabor del vino.\n",
    "    - 8 - density: densidad. La densidad es cercana a la del agua según el porcentaje de alcohol y contenido de azúcar.\n",
    "    - 9 - pH: pH. Describe qué tan ácido o básico es un vino en una escala de 0 (muy ácido) a 14 (muy básico); La mayoría de los vinos están entre 3-4 en la escala de pH.\n",
    "    - 10 - sulphates: sulfatos. Es un aditivo para el vino que puede contribuir a los niveles de gas de dióxido de azufre (S02), que actúa como un antimicrobiano y antioxidante.\n",
    "    - 11 - alcohol: alcohol. Es el porcentaje de alcohol del vino.\n",
    "- Atributos de salida basado en datos sensoriales (valoracion de personas): \n",
    "    - 12 - quality: calidad (puntuación entre 0 y 10)\n",
    "\n",
    "Todos los atributos tienen valores continuos a excepcion de 'quality' que es una variable discreta.\n",
    "\n",
    "\n",
    "### Interés del análisis de este datadet\n",
    "\n",
    "**El análisis de estos datos es interesante para analizar la posibilidad de establecer la relacion entre las preferencias de las personas (valoracion del vino) y las caracteristicas fisicoquímicas que se obtienen de pruebas analíticas fácilmente disponibles cuando se certifica el producto.** \n",
    "\n",
    "**Este análisis pueden tener una gran relevancia en cualquier actividad relacionada con el consumo del vino. Un ejemplo puede ser cuando un restaurante se plantea la compra de vinos que no conoce, tambien para validar la objetividad en la clasificacion de los vinos por parte de revistas especializadas, mejorar la producción de vino o para apoyar al enólogo.en las evaluaciones de cata de vinos, etc...** \n",
    "\n",
    "\n",
    "\n",
    "Fuente:\n",
    "Paulo Cortez, University of Minho, Guimarães, Portugal, http://www3.dsi.uminho.pt/pcortez \n",
    "A. Cerdeira, F. Almeida, T. Matos and J. Reis, Viticulture Commission of the Vinho Verde Region(CVRVV), Porto, Portugal @2009"
   ]
  },
  {
   "cell_type": "markdown",
   "metadata": {},
   "source": [
    "## 2.- Integración y selección de los datos de interés a analizar."
   ]
  },
  {
   "cell_type": "markdown",
   "metadata": {},
   "source": [
    "Una vez descrito el dataset, necesitamos observar las características principales de los datos que utilizaremos en este estudio. Conocer los datos con los que trabajaremos nos ayudará después en la creación de modelos y la validación de hipótesis."
   ]
  },
  {
   "cell_type": "markdown",
   "metadata": {},
   "source": [
    "### 2.1. Análisis exploratorio inicial  "
   ]
  },
  {
   "cell_type": "markdown",
   "metadata": {},
   "source": [
    "\n",
    "En primer lugar vamos a cargar los datos objeto de analisis y vamos a obtener la informacion general sobre sus atributos, de forma que seamos capacer de identificar los primeros problemas con los que nos podemos encontrar y sus caracteristicas más generales.\n",
    "\n",
    "A estos efectos vamos a crear un objeto \"data.frame\" llamado 'wine1' que contendrá todos los datos del dataset objeto de análisis. \n"
   ]
  },
  {
   "cell_type": "code",
   "execution_count": 1,
   "metadata": {},
   "outputs": [
    {
     "data": {
      "text/html": [
       "<div>\n",
       "<style scoped>\n",
       "    .dataframe tbody tr th:only-of-type {\n",
       "        vertical-align: middle;\n",
       "    }\n",
       "\n",
       "    .dataframe tbody tr th {\n",
       "        vertical-align: top;\n",
       "    }\n",
       "\n",
       "    .dataframe thead th {\n",
       "        text-align: right;\n",
       "    }\n",
       "</style>\n",
       "<table border=\"1\" class=\"dataframe\">\n",
       "  <thead>\n",
       "    <tr style=\"text-align: right;\">\n",
       "      <th></th>\n",
       "      <th>fixed acidity</th>\n",
       "      <th>volatile acidity</th>\n",
       "      <th>citric acid</th>\n",
       "      <th>residual sugar</th>\n",
       "      <th>chlorides</th>\n",
       "      <th>free sulfur dioxide</th>\n",
       "      <th>total sulfur dioxide</th>\n",
       "      <th>density</th>\n",
       "      <th>pH</th>\n",
       "      <th>sulphates</th>\n",
       "      <th>alcohol</th>\n",
       "      <th>quality</th>\n",
       "    </tr>\n",
       "  </thead>\n",
       "  <tbody>\n",
       "    <tr>\n",
       "      <th>0</th>\n",
       "      <td>7.4</td>\n",
       "      <td>0.70</td>\n",
       "      <td>0.00</td>\n",
       "      <td>1.9</td>\n",
       "      <td>0.076</td>\n",
       "      <td>11.0</td>\n",
       "      <td>34.0</td>\n",
       "      <td>0.9978</td>\n",
       "      <td>3.51</td>\n",
       "      <td>0.56</td>\n",
       "      <td>9.4</td>\n",
       "      <td>5</td>\n",
       "    </tr>\n",
       "    <tr>\n",
       "      <th>1</th>\n",
       "      <td>7.8</td>\n",
       "      <td>0.88</td>\n",
       "      <td>0.00</td>\n",
       "      <td>2.6</td>\n",
       "      <td>0.098</td>\n",
       "      <td>25.0</td>\n",
       "      <td>67.0</td>\n",
       "      <td>0.9968</td>\n",
       "      <td>3.20</td>\n",
       "      <td>0.68</td>\n",
       "      <td>9.8</td>\n",
       "      <td>5</td>\n",
       "    </tr>\n",
       "    <tr>\n",
       "      <th>2</th>\n",
       "      <td>7.8</td>\n",
       "      <td>0.76</td>\n",
       "      <td>0.04</td>\n",
       "      <td>2.3</td>\n",
       "      <td>0.092</td>\n",
       "      <td>15.0</td>\n",
       "      <td>54.0</td>\n",
       "      <td>0.9970</td>\n",
       "      <td>3.26</td>\n",
       "      <td>0.65</td>\n",
       "      <td>9.8</td>\n",
       "      <td>5</td>\n",
       "    </tr>\n",
       "    <tr>\n",
       "      <th>3</th>\n",
       "      <td>11.2</td>\n",
       "      <td>0.28</td>\n",
       "      <td>0.56</td>\n",
       "      <td>1.9</td>\n",
       "      <td>0.075</td>\n",
       "      <td>17.0</td>\n",
       "      <td>60.0</td>\n",
       "      <td>0.9980</td>\n",
       "      <td>3.16</td>\n",
       "      <td>0.58</td>\n",
       "      <td>9.8</td>\n",
       "      <td>6</td>\n",
       "    </tr>\n",
       "    <tr>\n",
       "      <th>4</th>\n",
       "      <td>7.4</td>\n",
       "      <td>0.70</td>\n",
       "      <td>0.00</td>\n",
       "      <td>1.9</td>\n",
       "      <td>0.076</td>\n",
       "      <td>11.0</td>\n",
       "      <td>34.0</td>\n",
       "      <td>0.9978</td>\n",
       "      <td>3.51</td>\n",
       "      <td>0.56</td>\n",
       "      <td>9.4</td>\n",
       "      <td>5</td>\n",
       "    </tr>\n",
       "  </tbody>\n",
       "</table>\n",
       "</div>"
      ],
      "text/plain": [
       "   fixed acidity  volatile acidity  citric acid  residual sugar  chlorides  \\\n",
       "0            7.4              0.70         0.00             1.9      0.076   \n",
       "1            7.8              0.88         0.00             2.6      0.098   \n",
       "2            7.8              0.76         0.04             2.3      0.092   \n",
       "3           11.2              0.28         0.56             1.9      0.075   \n",
       "4            7.4              0.70         0.00             1.9      0.076   \n",
       "\n",
       "   free sulfur dioxide  total sulfur dioxide  density    pH  sulphates  \\\n",
       "0                 11.0                  34.0   0.9978  3.51       0.56   \n",
       "1                 25.0                  67.0   0.9968  3.20       0.68   \n",
       "2                 15.0                  54.0   0.9970  3.26       0.65   \n",
       "3                 17.0                  60.0   0.9980  3.16       0.58   \n",
       "4                 11.0                  34.0   0.9978  3.51       0.56   \n",
       "\n",
       "   alcohol  quality  \n",
       "0      9.4        5  \n",
       "1      9.8        5  \n",
       "2      9.8        5  \n",
       "3      9.8        6  \n",
       "4      9.4        5  "
      ]
     },
     "execution_count": 1,
     "metadata": {},
     "output_type": "execute_result"
    }
   ],
   "source": [
    "# Importamos las librerias que vamos a necesitar.\n",
    "import pandas as pd\n",
    "\n",
    "# Creamos un dataframe con los datos a analizar\n",
    "wine1 = pd.read_csv('data/winequality-red.csv')\n",
    "# Visualizamos los 5 primeros registros con las cabeceras para confirmar la informacion\n",
    "# anterior y observar si vemos algo que nos llame la atención.\n",
    "wine1.head(n=5)\n"
   ]
  },
  {
   "cell_type": "markdown",
   "metadata": {},
   "source": [
    "De acuerdo con la observacion inicial de los 100 primeros registros, no aprecio situaciones de destacar muy evidentes. Tan sólo vamos a destacar 2 observaciones:\n",
    "- `me ha llamado la atencion el valor '0' en la columna 'citric acid', ya que podría tratarse de un valor perdido que haya sido posteriormente completado con el valor '0'`. No obstante, no hay documentacion en tal sentido, y en base a la descripcion del atributo, sabemos que se utiliza en pequeñas cantidades, por lo que no seria descabellado pensar que en algunas muestras, los analisis dieran un valor inapreciable. No obstante, estareos atentos a cualquier situación que nos haga dudar de este valor.\n",
    "- El nombre de `algunas columnas tienen espacios vacios` y esto nos puede dar problemas a la hora hora de programar con Python. Tendermos esto en cuenta para posteriormente corregir esta situación.\n"
   ]
  },
  {
   "cell_type": "markdown",
   "metadata": {},
   "source": [
    "Vamos a obtener algunos datos adicionales exploratorios de carácter general para confirmar información recogida y conocer nuevas características."
   ]
  },
  {
   "cell_type": "code",
   "execution_count": 6,
   "metadata": {},
   "outputs": [
    {
     "name": "stdout",
     "output_type": "stream",
     "text": [
      "Forma del dataset (nº muestras/filas, nº atributos/columnas): (1599, 12)\n",
      "Nombre de los atributos (columnas): ['fixed acidity', 'volatile acidity', 'citric acid', 'residual sugar', 'chlorides', 'free sulfur dioxide', 'total sulfur dioxide', 'density', 'pH', 'sulphates', 'alcohol', 'quality']\n"
     ]
    }
   ],
   "source": [
    "# Vamos a obtener algunos datos muy básicos de carácter exploratorio:\n",
    "print(\"Forma del dataset (nº muestras/filas, nº atributos/columnas): {s}\").format(s = wine1.shape)\n",
    "print(\"Nombre de los atributos (columnas): {s}\").format(s = list(wine1))"
   ]
  },
  {
   "cell_type": "code",
   "execution_count": 132,
   "metadata": {
    "scrolled": true
   },
   "outputs": [
    {
     "name": "stdout",
     "output_type": "stream",
     "text": [
      "<class 'pandas.core.frame.DataFrame'>\n",
      "RangeIndex: 1599 entries, 0 to 1598\n",
      "Data columns (total 12 columns):\n",
      "fixed acidity           1599 non-null float64\n",
      "volatile acidity        1599 non-null float64\n",
      "citric acid             1599 non-null float64\n",
      "residual sugar          1599 non-null float64\n",
      "chlorides               1599 non-null float64\n",
      "free sulfur dioxide     1599 non-null float64\n",
      "total sulfur dioxide    1599 non-null float64\n",
      "density                 1599 non-null float64\n",
      "pH                      1599 non-null float64\n",
      "sulphates               1599 non-null float64\n",
      "alcohol                 1599 non-null float64\n",
      "quality                 1599 non-null int64\n",
      "dtypes: float64(11), int64(1)\n",
      "memory usage: 150.0 KB\n"
     ]
    }
   ],
   "source": [
    "# Información sobre las columnas de datos (atributos o variables).\n",
    "wine1.info()"
   ]
  },
  {
   "cell_type": "markdown",
   "metadata": {},
   "source": [
    "De acuerdo con la informacion de la columna de datos, vemos 2 consideraciones importantes:\n",
    "- Que todas las columnas son de tipo numérico (float64(11) y int64(1)), lo que nos `permite aplicar fácilmente ciertos análisis muy útiles` para comprobar caracteristicas y posibles relaciones entre variables.\n",
    "- Todas las columnas están definidas como 'non-null', lo que `imposibilita que una columna pueda contener un valor nulo`. \n",
    "\n",
    "Aunque esta última consideración la comprobaremos posteriormente, `nos induce a pensar que los valores '0' encontrados en el atributo 'citric acid' puedan corresponder a valores originalmente nulos transformados al valor '0' para poder guardarse en este dataset`. Esta consideracion es suficientemente razonable como para tenerla en cuenta posteriormente en la sección de limpieza de datos.  "
   ]
  },
  {
   "cell_type": "code",
   "execution_count": 133,
   "metadata": {},
   "outputs": [
    {
     "data": {
      "text/html": [
       "<div>\n",
       "<style scoped>\n",
       "    .dataframe tbody tr th:only-of-type {\n",
       "        vertical-align: middle;\n",
       "    }\n",
       "\n",
       "    .dataframe tbody tr th {\n",
       "        vertical-align: top;\n",
       "    }\n",
       "\n",
       "    .dataframe thead th {\n",
       "        text-align: right;\n",
       "    }\n",
       "</style>\n",
       "<table border=\"1\" class=\"dataframe\">\n",
       "  <thead>\n",
       "    <tr style=\"text-align: right;\">\n",
       "      <th></th>\n",
       "      <th>fixed acidity</th>\n",
       "      <th>volatile acidity</th>\n",
       "      <th>citric acid</th>\n",
       "      <th>residual sugar</th>\n",
       "      <th>chlorides</th>\n",
       "      <th>free sulfur dioxide</th>\n",
       "      <th>total sulfur dioxide</th>\n",
       "      <th>density</th>\n",
       "      <th>pH</th>\n",
       "      <th>sulphates</th>\n",
       "      <th>alcohol</th>\n",
       "      <th>quality</th>\n",
       "    </tr>\n",
       "  </thead>\n",
       "  <tbody>\n",
       "    <tr>\n",
       "      <th>count</th>\n",
       "      <td>1599.000000</td>\n",
       "      <td>1599.000000</td>\n",
       "      <td>1599.000000</td>\n",
       "      <td>1599.000000</td>\n",
       "      <td>1599.000000</td>\n",
       "      <td>1599.000000</td>\n",
       "      <td>1599.000000</td>\n",
       "      <td>1599.000000</td>\n",
       "      <td>1599.000000</td>\n",
       "      <td>1599.000000</td>\n",
       "      <td>1599.000000</td>\n",
       "      <td>1599.000000</td>\n",
       "    </tr>\n",
       "    <tr>\n",
       "      <th>mean</th>\n",
       "      <td>8.319637</td>\n",
       "      <td>0.527821</td>\n",
       "      <td>0.270976</td>\n",
       "      <td>2.538806</td>\n",
       "      <td>0.087467</td>\n",
       "      <td>15.874922</td>\n",
       "      <td>46.467792</td>\n",
       "      <td>0.996747</td>\n",
       "      <td>3.311113</td>\n",
       "      <td>0.658149</td>\n",
       "      <td>10.422983</td>\n",
       "      <td>5.636023</td>\n",
       "    </tr>\n",
       "    <tr>\n",
       "      <th>std</th>\n",
       "      <td>1.741096</td>\n",
       "      <td>0.179060</td>\n",
       "      <td>0.194801</td>\n",
       "      <td>1.409928</td>\n",
       "      <td>0.047065</td>\n",
       "      <td>10.460157</td>\n",
       "      <td>32.895324</td>\n",
       "      <td>0.001887</td>\n",
       "      <td>0.154386</td>\n",
       "      <td>0.169507</td>\n",
       "      <td>1.065668</td>\n",
       "      <td>0.807569</td>\n",
       "    </tr>\n",
       "    <tr>\n",
       "      <th>min</th>\n",
       "      <td>4.600000</td>\n",
       "      <td>0.120000</td>\n",
       "      <td>0.000000</td>\n",
       "      <td>0.900000</td>\n",
       "      <td>0.012000</td>\n",
       "      <td>1.000000</td>\n",
       "      <td>6.000000</td>\n",
       "      <td>0.990070</td>\n",
       "      <td>2.740000</td>\n",
       "      <td>0.330000</td>\n",
       "      <td>8.400000</td>\n",
       "      <td>3.000000</td>\n",
       "    </tr>\n",
       "    <tr>\n",
       "      <th>25%</th>\n",
       "      <td>7.100000</td>\n",
       "      <td>0.390000</td>\n",
       "      <td>0.090000</td>\n",
       "      <td>1.900000</td>\n",
       "      <td>0.070000</td>\n",
       "      <td>7.000000</td>\n",
       "      <td>22.000000</td>\n",
       "      <td>0.995600</td>\n",
       "      <td>3.210000</td>\n",
       "      <td>0.550000</td>\n",
       "      <td>9.500000</td>\n",
       "      <td>5.000000</td>\n",
       "    </tr>\n",
       "    <tr>\n",
       "      <th>50%</th>\n",
       "      <td>7.900000</td>\n",
       "      <td>0.520000</td>\n",
       "      <td>0.260000</td>\n",
       "      <td>2.200000</td>\n",
       "      <td>0.079000</td>\n",
       "      <td>14.000000</td>\n",
       "      <td>38.000000</td>\n",
       "      <td>0.996750</td>\n",
       "      <td>3.310000</td>\n",
       "      <td>0.620000</td>\n",
       "      <td>10.200000</td>\n",
       "      <td>6.000000</td>\n",
       "    </tr>\n",
       "    <tr>\n",
       "      <th>75%</th>\n",
       "      <td>9.200000</td>\n",
       "      <td>0.640000</td>\n",
       "      <td>0.420000</td>\n",
       "      <td>2.600000</td>\n",
       "      <td>0.090000</td>\n",
       "      <td>21.000000</td>\n",
       "      <td>62.000000</td>\n",
       "      <td>0.997835</td>\n",
       "      <td>3.400000</td>\n",
       "      <td>0.730000</td>\n",
       "      <td>11.100000</td>\n",
       "      <td>6.000000</td>\n",
       "    </tr>\n",
       "    <tr>\n",
       "      <th>max</th>\n",
       "      <td>15.900000</td>\n",
       "      <td>1.580000</td>\n",
       "      <td>1.000000</td>\n",
       "      <td>15.500000</td>\n",
       "      <td>0.611000</td>\n",
       "      <td>72.000000</td>\n",
       "      <td>289.000000</td>\n",
       "      <td>1.003690</td>\n",
       "      <td>4.010000</td>\n",
       "      <td>2.000000</td>\n",
       "      <td>14.900000</td>\n",
       "      <td>8.000000</td>\n",
       "    </tr>\n",
       "  </tbody>\n",
       "</table>\n",
       "</div>"
      ],
      "text/plain": [
       "       fixed acidity  volatile acidity  citric acid  residual sugar  \\\n",
       "count    1599.000000       1599.000000  1599.000000     1599.000000   \n",
       "mean        8.319637          0.527821     0.270976        2.538806   \n",
       "std         1.741096          0.179060     0.194801        1.409928   \n",
       "min         4.600000          0.120000     0.000000        0.900000   \n",
       "25%         7.100000          0.390000     0.090000        1.900000   \n",
       "50%         7.900000          0.520000     0.260000        2.200000   \n",
       "75%         9.200000          0.640000     0.420000        2.600000   \n",
       "max        15.900000          1.580000     1.000000       15.500000   \n",
       "\n",
       "         chlorides  free sulfur dioxide  total sulfur dioxide      density  \\\n",
       "count  1599.000000          1599.000000           1599.000000  1599.000000   \n",
       "mean      0.087467            15.874922             46.467792     0.996747   \n",
       "std       0.047065            10.460157             32.895324     0.001887   \n",
       "min       0.012000             1.000000              6.000000     0.990070   \n",
       "25%       0.070000             7.000000             22.000000     0.995600   \n",
       "50%       0.079000            14.000000             38.000000     0.996750   \n",
       "75%       0.090000            21.000000             62.000000     0.997835   \n",
       "max       0.611000            72.000000            289.000000     1.003690   \n",
       "\n",
       "                pH    sulphates      alcohol      quality  \n",
       "count  1599.000000  1599.000000  1599.000000  1599.000000  \n",
       "mean      3.311113     0.658149    10.422983     5.636023  \n",
       "std       0.154386     0.169507     1.065668     0.807569  \n",
       "min       2.740000     0.330000     8.400000     3.000000  \n",
       "25%       3.210000     0.550000     9.500000     5.000000  \n",
       "50%       3.310000     0.620000    10.200000     6.000000  \n",
       "75%       3.400000     0.730000    11.100000     6.000000  \n",
       "max       4.010000     2.000000    14.900000     8.000000  "
      ]
     },
     "execution_count": 133,
     "metadata": {},
     "output_type": "execute_result"
    }
   ],
   "source": [
    "# Vamos a ver los estadísticos básicos de los atributos numéricas del dataframe original, que son todos\n",
    "wine1.describe()"
   ]
  },
  {
   "cell_type": "markdown",
   "metadata": {},
   "source": [
    "De acuerdo con la información estadistica básica podemos observar:\n",
    "- `El único atributo que contiene algun valor 0 es` '**citric acid**', ya que al margen de haberlo visualizado anteriormente, vemos que es el único atributo que contiene como valor mínimo el '0' en un conjunto de datos en donde todos los valores son mayores o iguales a '0'. Por lo tanto, `la única posibilidad de que pudieran darse valores perdidos se reduce al atributo 'citric acid'`. \n",
    "- `Los valores altos de la acidez volatil` ('**volatile acidity**') implica una alta cantidad de ácido acético en el vino, que puede llevar a un sabor desagradable a vinagre. De acuerdo con los estadísticos básicos, el valor maximo supone el triple que la media aproximadamente, lo que nos hace pensar que existen muestras con valores muy altos. Debido a la influencia de este atributo en la variable dependiente, `podría suceder que afectara negativamente al estudio de  la influencia real de otros atributos sobre la calidad del vino ('quality')`. Por este motivo, deberiamos prestar especial atención por si nos encontremos en una situación de valores extremos que debamos excluir del análisis.\n",
    "- Los indicadores de '**residual sugar**' y '**pH**' se encuentran dentro de los limites de los vinos normales.  \n",
    "- Las puntuaciones sobre la calidad del vino ('**quality**') se concentran entre los valores 3 y 8. \n",
    "- El dioxido de azufre libre ('**free sulfur dioxide**') en cantidades superiores a 50 ppm, se hace evidente en nariz y en el sabor del vino. La información del dataset no dice nada con relacion a la unidad de medida de los datos que contempla este atributo, por lo que no tenemos certeza de si podemos utilizar el límite de 50 ppm para aplicarlo a nuestro análisis. Además existe una alta dispersión entre sus valores, lo que puede dificultar analizar su relación con la variable dependiente. \n",
    "\n"
   ]
  },
  {
   "cell_type": "markdown",
   "metadata": {},
   "source": [
    "### 2.2. Relaciones entre atributos  "
   ]
  },
  {
   "cell_type": "markdown",
   "metadata": {},
   "source": [
    "\n",
    "A partir de esta exploracion inicial, vamos a analizar las posibles relaciones entre atributos, de forma que los llamados atributos de entrada los consideramos variables independientes (las 11 primeras columnas) y la variable dependiente es la columna 12, el atributo \"quality\". \n",
    "\n",
    "A partir de toda la información obtenida hasta el momento, me atrevo a hacer una primera conjetura con relación a la relacion entre variables: considero que las variables independientes que pueden tener una menor influencia sobre la variable dependiente son la 'densidad' y el 'ph', ya que considero que influyen poco sobre el sabor del vino (valoración de la persona, calidad).\n",
    "\n",
    "Para mejorar nuestro conocimiento de cada atributo, necesitamos hacer un trazado para saber cómo se comportan cada uno de los atributos de entrada de mayor interés del dataset con la variable independiente, y de esta menera poder sacar las primeras conclusiones más simples.\n",
    "\n",
    "#### Vamos a empezar este análisis gráfico (ya que no hay valores nulos segun la informacion de las columnas del dataset, aunque luego lo confirmaremos). La representación de datos es una tarea clave del análisis de datos \n",
    "\n"
   ]
  },
  {
   "cell_type": "code",
   "execution_count": 76,
   "metadata": {
    "scrolled": true
   },
   "outputs": [
    {
     "data": {
      "text/plain": [
       "<matplotlib.axes._subplots.AxesSubplot at 0x1a273e01d0>"
      ]
     },
     "execution_count": 76,
     "metadata": {},
     "output_type": "execute_result"
    },
    {
     "data": {
      "image/png": "[encoded data removed]",
      "text/plain": [
       "<Figure size 720x432 with 1 Axes>"
      ]
     },
     "metadata": {
      "needs_background": "light"
     },
     "output_type": "display_data"
    }
   ],
   "source": [
    "# Importo el metodo 'lmplot' de la libreria 'seaborn'. \n",
    "import matplotlib.pyplot as plt\n",
    "import seaborn as sns\n",
    "\n",
    "# Voy a plantear un grafico de dispersión para ver la relacion entre 'fixed acidity' y \n",
    "# 'quality'\n",
    "fig = plt.figure(figsize = (10,6))\n",
    "sns.barplot(x = 'quality', y = 'fixed acidity', data = wine1)\n",
    "\n"
   ]
  },
  {
   "cell_type": "markdown",
   "metadata": {},
   "source": [
    "**Como podemos ver no existe ninguna relacion entre 'fixed acidity' y 'quality'.**"
   ]
  },
  {
   "cell_type": "code",
   "execution_count": 53,
   "metadata": {},
   "outputs": [
    {
     "data": {
      "text/plain": [
       "<matplotlib.axes._subplots.AxesSubplot at 0x1a26266890>"
      ]
     },
     "execution_count": 53,
     "metadata": {},
     "output_type": "execute_result"
    },
    {
     "data": {
      "image/png": "[encoded data removed]",
      "text/plain": [
       "<Figure size 720x432 with 1 Axes>"
      ]
     },
     "metadata": {
      "needs_background": "light"
     },
     "output_type": "display_data"
    }
   ],
   "source": [
    "# Voy a plantear un grafico de dispersión para ver la relacion entre 'volatile acidity' \n",
    "# y 'quality'\n",
    "\n",
    "fig = plt.figure(figsize = (10,6))\n",
    "sns.barplot(x = 'quality', y = 'volatile acidity', data = wine1)\n",
    "\n"
   ]
  },
  {
   "cell_type": "markdown",
   "metadata": {},
   "source": [
    "**Como podemos apreciar, hay una clara tendencia descendente en la acidez volátil a medida que aumentamos la calidad, con una mayor dispersion en los extremos.**"
   ]
  },
  {
   "cell_type": "code",
   "execution_count": 54,
   "metadata": {},
   "outputs": [
    {
     "data": {
      "text/plain": [
       "<seaborn.axisgrid.FacetGrid at 0x1a26266850>"
      ]
     },
     "execution_count": 54,
     "metadata": {},
     "output_type": "execute_result"
    },
    {
     "data": {
      "image/png": "[encoded data removed]",
      "text/plain": [
       "<Figure size 360x360 with 1 Axes>"
      ]
     },
     "metadata": {
      "needs_background": "light"
     },
     "output_type": "display_data"
    }
   ],
   "source": [
    "# Voy a plantear el mismo caso anterior pero con otro tipo de gráfico, donde se alcanza la \n",
    "# misma conclusión pero nos aporta otros matices.\n",
    "\n",
    "from seaborn import lmplot\n",
    "\n",
    "lmplot( 'quality', 'volatile acidity', data=wine1)\n"
   ]
  },
  {
   "cell_type": "code",
   "execution_count": 55,
   "metadata": {},
   "outputs": [
    {
     "data": {
      "text/plain": [
       "<matplotlib.axes._subplots.AxesSubplot at 0x1a2698ac50>"
      ]
     },
     "execution_count": 55,
     "metadata": {},
     "output_type": "execute_result"
    },
    {
     "data": {
      "image/png": "[encoded data removed]",
      "text/plain": [
       "<Figure size 720x432 with 1 Axes>"
      ]
     },
     "metadata": {
      "needs_background": "light"
     },
     "output_type": "display_data"
    }
   ],
   "source": [
    "# Voy a plantear un grafico de dispersión para ver la relacion entre 'citric acid' \n",
    "# y 'quality'\n",
    "\n",
    "fig = plt.figure(figsize = (10,6))\n",
    "sns.barplot(x = 'quality', y = 'citric acid', data = wine1)\n",
    "\n"
   ]
  },
  {
   "cell_type": "markdown",
   "metadata": {},
   "source": [
    "**Como podemos apreciar, hay una clara tendencia ascendente en la acido cítrico a medida que aumentamos la calidad, con mayor dispersion en los extremos.**"
   ]
  },
  {
   "cell_type": "code",
   "execution_count": 56,
   "metadata": {},
   "outputs": [
    {
     "data": {
      "text/plain": [
       "<seaborn.axisgrid.FacetGrid at 0x1a2698a550>"
      ]
     },
     "execution_count": 56,
     "metadata": {},
     "output_type": "execute_result"
    },
    {
     "data": {
      "image/png": "[encoded data removed]",
      "text/plain": [
       "<Figure size 360x360 with 1 Axes>"
      ]
     },
     "metadata": {
      "needs_background": "light"
     },
     "output_type": "display_data"
    }
   ],
   "source": [
    "# Voy a plantear el mismo caso anterior pero con otro tipo de gráfico, donde se alcanza la \n",
    "# misma conclusión pero nos aporta otros matices.\n",
    "\n",
    "lmplot( 'quality', 'citric acid', data=wine1)\n"
   ]
  },
  {
   "cell_type": "code",
   "execution_count": 57,
   "metadata": {},
   "outputs": [
    {
     "data": {
      "text/plain": [
       "<matplotlib.axes._subplots.AxesSubplot at 0x1a26b5b810>"
      ]
     },
     "execution_count": 57,
     "metadata": {},
     "output_type": "execute_result"
    },
    {
     "data": {
      "image/png": "[encoded data removed]",
      "text/plain": [
       "<Figure size 720x432 with 1 Axes>"
      ]
     },
     "metadata": {
      "needs_background": "light"
     },
     "output_type": "display_data"
    }
   ],
   "source": [
    "# Voy a plantear un grafico de dispersión para ver la relacion entre 'residual sugar' \n",
    "# y 'quality'\n",
    "\n",
    "fig = plt.figure(figsize = (10,6))\n",
    "sns.barplot(x = 'quality', y = 'residual sugar', data = wine1)\n",
    "\n"
   ]
  },
  {
   "cell_type": "markdown",
   "metadata": {},
   "source": [
    "**Como podemos ver no existe ninguna relacion entre 'residual sugar' y 'quality'.**"
   ]
  },
  {
   "cell_type": "code",
   "execution_count": 58,
   "metadata": {},
   "outputs": [
    {
     "data": {
      "text/plain": [
       "<matplotlib.axes._subplots.AxesSubplot at 0x1a26c5e7d0>"
      ]
     },
     "execution_count": 58,
     "metadata": {},
     "output_type": "execute_result"
    },
    {
     "data": {
      "image/png": "[encoded data removed]",
      "text/plain": [
       "<Figure size 720x432 with 1 Axes>"
      ]
     },
     "metadata": {
      "needs_background": "light"
     },
     "output_type": "display_data"
    }
   ],
   "source": [
    "# Voy a plantear un grafico de dispersión para ver la relacion entre 'chlorides' \n",
    "# y 'quality'\n",
    "\n",
    "fig = plt.figure(figsize = (10,6))\n",
    "sns.barplot(x = 'quality', y = 'chlorides', data = wine1)\n",
    "\n"
   ]
  },
  {
   "cell_type": "markdown",
   "metadata": {},
   "source": [
    "**Como podemos apreciar, hay una ligera tendencia descendente en los cloruros a medida que aumentamos la calidad, con una mayor dispersion en los niveles de calidad bajos.**"
   ]
  },
  {
   "cell_type": "code",
   "execution_count": 59,
   "metadata": {},
   "outputs": [
    {
     "data": {
      "text/plain": [
       "<seaborn.axisgrid.FacetGrid at 0x1a26ab9c50>"
      ]
     },
     "execution_count": 59,
     "metadata": {},
     "output_type": "execute_result"
    },
    {
     "data": {
      "image/png": "[encoded data removed]",
      "text/plain": [
       "<Figure size 360x360 with 1 Axes>"
      ]
     },
     "metadata": {
      "needs_background": "light"
     },
     "output_type": "display_data"
    }
   ],
   "source": [
    "# Voy a plantear el mismo caso anterior pero con otro tipo de gráfico, donde se alcanza la \n",
    "# misma conclusión pero nos aporta otros matices.\n",
    "\n",
    "lmplot( 'quality', 'chlorides', data=wine1)\n"
   ]
  },
  {
   "cell_type": "code",
   "execution_count": 60,
   "metadata": {},
   "outputs": [
    {
     "data": {
      "text/plain": [
       "<matplotlib.axes._subplots.AxesSubplot at 0x1a26a71050>"
      ]
     },
     "execution_count": 60,
     "metadata": {},
     "output_type": "execute_result"
    },
    {
     "data": {
      "image/png": "[encoded data removed]",
      "text/plain": [
       "<Figure size 720x432 with 1 Axes>"
      ]
     },
     "metadata": {
      "needs_background": "light"
     },
     "output_type": "display_data"
    }
   ],
   "source": [
    "# Voy a plantear un grafico de dispersión para ver la relacion entre 'free sulfur dioxide' \n",
    "# y 'quality'\n",
    "\n",
    "fig = plt.figure(figsize = (10,6))\n",
    "sns.barplot(x = 'quality', y = 'free sulfur dioxide', data = wine1)\n",
    "\n"
   ]
  },
  {
   "cell_type": "markdown",
   "metadata": {},
   "source": [
    "**Como podemos ver no existe ninguna relacion entre 'free sulfur dioxide' y 'quality'.** No obstante, esta conclusión nos extraña mucho ya que como se indicado anteriormente, a concentraciones del acido sulfurico libre ('free sulfur dioxide') superiores a 50 ppm, se hace evidente en la nariz y el sabor del vino. Hemos visto antes que los valores de este atributo presentaban una gran dispersión, lo que puede afectar a la hora de establecer relaciones lineales. Vamos a realizar un análisis complementario para ver si nos aporta claridad."
   ]
  },
  {
   "cell_type": "code",
   "execution_count": 101,
   "metadata": {},
   "outputs": [
    {
     "data": {
      "image/png": "[encoded data removed]",
      "text/plain": [
       "<Figure size 432x288 with 1 Axes>"
      ]
     },
     "metadata": {
      "needs_background": "light"
     },
     "output_type": "display_data"
    }
   ],
   "source": [
    "# En este caso es interesante conocer la frecuencia con la que se distribuyen sus valores\n",
    "import matplotlib.pyplot as plt\n",
    "\n",
    "plt.hist(wine1['free sulfur dioxide'], bins=10, facecolor='blue',\n",
    "         edgecolor = 'white', alpha=0.6, linewidth=1)\n",
    "plt.title('Histograma - free sulfur dioxide')\n",
    "plt.grid(False)\n",
    "plt.show()\n",
    "\n",
    "\n"
   ]
  },
  {
   "cell_type": "markdown",
   "metadata": {},
   "source": [
    "**Como podemos ver, el histograma nos indica que casi la totalidad de los valores de este atributo ('free sulfur dioxide') estan por debajo de 50. En el caso de que este atributo tenga como unidad de medida 'ppm' (partes por molecula) seria coherente con la falta de relación que indica el gráfico anterior, ya que sólo a partit de 50 ppm se hace evidente el dióxido sulfúrico en la nariz y el sabor del vino. Por lo tanto en este caso es logico que no exista relación ninguna.**"
   ]
  },
  {
   "cell_type": "code",
   "execution_count": 61,
   "metadata": {},
   "outputs": [
    {
     "data": {
      "text/plain": [
       "<matplotlib.axes._subplots.AxesSubplot at 0x1a26dde210>"
      ]
     },
     "execution_count": 61,
     "metadata": {},
     "output_type": "execute_result"
    },
    {
     "data": {
      "image/png": "[encoded data removed]",
      "text/plain": [
       "<Figure size 720x432 with 1 Axes>"
      ]
     },
     "metadata": {
      "needs_background": "light"
     },
     "output_type": "display_data"
    }
   ],
   "source": [
    "# Voy a plantear un grafico de dispersión para ver la relacion entre 'total sulfur dioxide' \n",
    "# y 'quality'\n",
    "\n",
    "fig = plt.figure(figsize = (10,6))\n",
    "sns.barplot(x = 'quality', y = 'total sulfur dioxide', data = wine1\n",
    "           )\n",
    "\n"
   ]
  },
  {
   "cell_type": "markdown",
   "metadata": {},
   "source": [
    "**Como podemos ver no existe ninguna relacion entre 'total sulfur dioxide' y 'quality'.**"
   ]
  },
  {
   "cell_type": "code",
   "execution_count": 62,
   "metadata": {},
   "outputs": [
    {
     "data": {
      "text/plain": [
       "<matplotlib.axes._subplots.AxesSubplot at 0x1a2721a5d0>"
      ]
     },
     "execution_count": 62,
     "metadata": {},
     "output_type": "execute_result"
    },
    {
     "data": {
      "image/png": "[encoded data removed]",
      "text/plain": [
       "<Figure size 720x432 with 1 Axes>"
      ]
     },
     "metadata": {
      "needs_background": "light"
     },
     "output_type": "display_data"
    }
   ],
   "source": [
    "# Voy a plantear un grafico de dispersión para ver la relacion entre 'sulphates' \n",
    "# y 'quality'\n",
    "\n",
    "fig = plt.figure(figsize = (10,6))\n",
    "sns.barplot(x = 'quality', y = 'sulphates', data = wine1)\n",
    "\n"
   ]
  },
  {
   "cell_type": "markdown",
   "metadata": {},
   "source": [
    "**Como podemos ver el nivel de sulfatos aumenta ligeramente con la calidad del vino, con mayor dispersion en los extremos.**"
   ]
  },
  {
   "cell_type": "code",
   "execution_count": 63,
   "metadata": {},
   "outputs": [
    {
     "data": {
      "text/plain": [
       "<seaborn.axisgrid.FacetGrid at 0x1a272706d0>"
      ]
     },
     "execution_count": 63,
     "metadata": {},
     "output_type": "execute_result"
    },
    {
     "data": {
      "image/png": "[encoded data removed]",
      "text/plain": [
       "<Figure size 360x360 with 1 Axes>"
      ]
     },
     "metadata": {
      "needs_background": "light"
     },
     "output_type": "display_data"
    }
   ],
   "source": [
    "# Voy a plantear el mismo caso anterior pero con otro tipo de gráfico, donde se alcanza la \n",
    "# misma conclusión pero nos aporta otros matices.\n",
    "\n",
    "lmplot( 'quality', 'sulphates', data=wine1)\n"
   ]
  },
  {
   "cell_type": "code",
   "execution_count": 64,
   "metadata": {},
   "outputs": [
    {
     "data": {
      "text/plain": [
       "<matplotlib.axes._subplots.AxesSubplot at 0x1a26fdded0>"
      ]
     },
     "execution_count": 64,
     "metadata": {},
     "output_type": "execute_result"
    },
    {
     "data": {
      "image/png": "[encoded data removed]",
      "text/plain": [
       "<Figure size 720x432 with 1 Axes>"
      ]
     },
     "metadata": {
      "needs_background": "light"
     },
     "output_type": "display_data"
    }
   ],
   "source": [
    "# Voy a plantear un grafico de dispersión para ver la relacion entre 'alcohol' \n",
    "# y 'quality'\n",
    "\n",
    "fig = plt.figure(figsize = (10,6))\n",
    "sns.barplot(x = 'quality', y = 'alcohol', data = wine1)\n",
    "\n"
   ]
  },
  {
   "cell_type": "markdown",
   "metadata": {},
   "source": [
    "**Como podemos ver el nivel de alcohol aumenta con la calidad del vino, pero con mayor dispersion en los extremos.**"
   ]
  },
  {
   "cell_type": "code",
   "execution_count": 82,
   "metadata": {},
   "outputs": [
    {
     "data": {
      "text/plain": [
       "<seaborn.axisgrid.FacetGrid at 0x1a28597090>"
      ]
     },
     "execution_count": 82,
     "metadata": {},
     "output_type": "execute_result"
    },
    {
     "data": {
      "image/png": "[encoded data removed]",
      "text/plain": [
       "<Figure size 360x360 with 1 Axes>"
      ]
     },
     "metadata": {
      "needs_background": "light"
     },
     "output_type": "display_data"
    }
   ],
   "source": [
    "# Voy a plantear el mismo caso anterior pero con otro tipo de gráfico, donde se alcanza la \n",
    "# misma conclusión pero nos aporta otros matices.\n",
    "\n",
    "lmplot( 'quality', 'alcohol', data=wine1)\n"
   ]
  },
  {
   "cell_type": "code",
   "execution_count": 66,
   "metadata": {},
   "outputs": [
    {
     "data": {
      "text/plain": [
       "<matplotlib.axes._subplots.AxesSubplot at 0x1a26fddc50>"
      ]
     },
     "execution_count": 66,
     "metadata": {},
     "output_type": "execute_result"
    },
    {
     "data": {
      "image/png": "[encoded data removed]",
      "text/plain": [
       "<Figure size 720x432 with 1 Axes>"
      ]
     },
     "metadata": {
      "needs_background": "light"
     },
     "output_type": "display_data"
    }
   ],
   "source": [
    "# Comprobamos que la conjetura hecha anteriormente de que la 'density' no tiene relacion con\n",
    "# 'quality' es correcta\n",
    "\n",
    "fig = plt.figure(figsize = (10,6))\n",
    "sns.barplot(x = 'quality', y = 'density', data = wine1)\n",
    "\n"
   ]
  },
  {
   "cell_type": "markdown",
   "metadata": {},
   "source": [
    "**Como podemos ver se confirma la conjetura inicial de que no existe ninguna relacion entre 'density' y 'quality'.**"
   ]
  },
  {
   "cell_type": "code",
   "execution_count": 67,
   "metadata": {},
   "outputs": [
    {
     "data": {
      "text/plain": [
       "<matplotlib.axes._subplots.AxesSubplot at 0x1a279574d0>"
      ]
     },
     "execution_count": 67,
     "metadata": {},
     "output_type": "execute_result"
    },
    {
     "data": {
      "image/png": "[encoded data removed]",
      "text/plain": [
       "<Figure size 720x432 with 1 Axes>"
      ]
     },
     "metadata": {
      "needs_background": "light"
     },
     "output_type": "display_data"
    }
   ],
   "source": [
    "# Comprobamos que la conjetura hecha anteriormente de que la 'pH' no tiene relacion con\n",
    "# 'quality' es correcta\n",
    "\n",
    "fig = plt.figure(figsize = (10,6))\n",
    "sns.barplot(x = 'quality', y = 'pH', data = wine1)\n",
    "\n"
   ]
  },
  {
   "cell_type": "markdown",
   "metadata": {},
   "source": [
    "**Como podemos ver se confirma la conjetura inicial de que no existe ninguna relacion entre 'pH' y 'quality'.**"
   ]
  },
  {
   "cell_type": "markdown",
   "metadata": {},
   "source": [
    "### 2.3. Integración y transformación de datos  "
   ]
  },
  {
   "cell_type": "markdown",
   "metadata": {},
   "source": [
    "En la descripcion del dataset existe información que nos puede ser muy útil en este momento. En concreto vamos a destacar las siguientes consideraciones:\n",
    "- quality: calidad (puntuación entre 0 y 10)\n",
    "- 2 - volatile acidity: acidez volátil. La cantidad de ácido acético en el vino, que en niveles demasiado altos puede llevar a un sabor desagradable a vinagre.\n",
    "- citric acid\n",
    "- las medidas parecen homogeneas, por lo que no parece necesario tomar ninguna medida para ....\n",
    "- Alguna transformacion de interes como - discretizacion:\n",
    " - la calidad\n",
    " - ver el tema del acido \n",
    " - cambiar los nombres de los campos que contengan espacion en blanco, sustituyendolo por el caracter '_'. Esto es necesario para poder trabajar sin problemas cuando aplicamos programacion python.\n",
    "\n"
   ]
  },
  {
   "cell_type": "code",
   "execution_count": 137,
   "metadata": {},
   "outputs": [
    {
     "name": "stdout",
     "output_type": "stream",
     "text": [
      "['fixed_acidity', 'volatile_acidity', 'citric_acid', 'residual_sugar', 'chlorides', 'free_sulfur_dioxide', 'total_sulfur_dioxide', 'density', 'pH', 'sulphates', 'alcohol', 'quality']\n"
     ]
    },
    {
     "data": {
      "text/html": [
       "<div>\n",
       "<style scoped>\n",
       "    .dataframe tbody tr th:only-of-type {\n",
       "        vertical-align: middle;\n",
       "    }\n",
       "\n",
       "    .dataframe tbody tr th {\n",
       "        vertical-align: top;\n",
       "    }\n",
       "\n",
       "    .dataframe thead th {\n",
       "        text-align: right;\n",
       "    }\n",
       "</style>\n",
       "<table border=\"1\" class=\"dataframe\">\n",
       "  <thead>\n",
       "    <tr style=\"text-align: right;\">\n",
       "      <th></th>\n",
       "      <th>fixed_acidity</th>\n",
       "      <th>volatile_acidity</th>\n",
       "      <th>citric_acid</th>\n",
       "      <th>residual_sugar</th>\n",
       "      <th>chlorides</th>\n",
       "      <th>free_sulfur_dioxide</th>\n",
       "      <th>total_sulfur_dioxide</th>\n",
       "      <th>density</th>\n",
       "      <th>pH</th>\n",
       "      <th>sulphates</th>\n",
       "      <th>alcohol</th>\n",
       "      <th>quality</th>\n",
       "    </tr>\n",
       "  </thead>\n",
       "  <tbody>\n",
       "    <tr>\n",
       "      <th>0</th>\n",
       "      <td>7.4</td>\n",
       "      <td>0.70</td>\n",
       "      <td>0.00</td>\n",
       "      <td>1.9</td>\n",
       "      <td>0.076</td>\n",
       "      <td>11.0</td>\n",
       "      <td>34.0</td>\n",
       "      <td>0.9978</td>\n",
       "      <td>3.51</td>\n",
       "      <td>0.56</td>\n",
       "      <td>9.4</td>\n",
       "      <td>5</td>\n",
       "    </tr>\n",
       "    <tr>\n",
       "      <th>1</th>\n",
       "      <td>7.8</td>\n",
       "      <td>0.88</td>\n",
       "      <td>0.00</td>\n",
       "      <td>2.6</td>\n",
       "      <td>0.098</td>\n",
       "      <td>25.0</td>\n",
       "      <td>67.0</td>\n",
       "      <td>0.9968</td>\n",
       "      <td>3.20</td>\n",
       "      <td>0.68</td>\n",
       "      <td>9.8</td>\n",
       "      <td>5</td>\n",
       "    </tr>\n",
       "    <tr>\n",
       "      <th>2</th>\n",
       "      <td>7.8</td>\n",
       "      <td>0.76</td>\n",
       "      <td>0.04</td>\n",
       "      <td>2.3</td>\n",
       "      <td>0.092</td>\n",
       "      <td>15.0</td>\n",
       "      <td>54.0</td>\n",
       "      <td>0.9970</td>\n",
       "      <td>3.26</td>\n",
       "      <td>0.65</td>\n",
       "      <td>9.8</td>\n",
       "      <td>5</td>\n",
       "    </tr>\n",
       "    <tr>\n",
       "      <th>3</th>\n",
       "      <td>11.2</td>\n",
       "      <td>0.28</td>\n",
       "      <td>0.56</td>\n",
       "      <td>1.9</td>\n",
       "      <td>0.075</td>\n",
       "      <td>17.0</td>\n",
       "      <td>60.0</td>\n",
       "      <td>0.9980</td>\n",
       "      <td>3.16</td>\n",
       "      <td>0.58</td>\n",
       "      <td>9.8</td>\n",
       "      <td>6</td>\n",
       "    </tr>\n",
       "    <tr>\n",
       "      <th>4</th>\n",
       "      <td>7.4</td>\n",
       "      <td>0.70</td>\n",
       "      <td>0.00</td>\n",
       "      <td>1.9</td>\n",
       "      <td>0.076</td>\n",
       "      <td>11.0</td>\n",
       "      <td>34.0</td>\n",
       "      <td>0.9978</td>\n",
       "      <td>3.51</td>\n",
       "      <td>0.56</td>\n",
       "      <td>9.4</td>\n",
       "      <td>5</td>\n",
       "    </tr>\n",
       "  </tbody>\n",
       "</table>\n",
       "</div>"
      ],
      "text/plain": [
       "   fixed_acidity  volatile_acidity  citric_acid  residual_sugar  chlorides  \\\n",
       "0            7.4              0.70         0.00             1.9      0.076   \n",
       "1            7.8              0.88         0.00             2.6      0.098   \n",
       "2            7.8              0.76         0.04             2.3      0.092   \n",
       "3           11.2              0.28         0.56             1.9      0.075   \n",
       "4            7.4              0.70         0.00             1.9      0.076   \n",
       "\n",
       "   free_sulfur_dioxide  total_sulfur_dioxide  density    pH  sulphates  \\\n",
       "0                 11.0                  34.0   0.9978  3.51       0.56   \n",
       "1                 25.0                  67.0   0.9968  3.20       0.68   \n",
       "2                 15.0                  54.0   0.9970  3.26       0.65   \n",
       "3                 17.0                  60.0   0.9980  3.16       0.58   \n",
       "4                 11.0                  34.0   0.9978  3.51       0.56   \n",
       "\n",
       "   alcohol  quality  \n",
       "0      9.4        5  \n",
       "1      9.8        5  \n",
       "2      9.8        5  \n",
       "3      9.8        6  \n",
       "4      9.4        5  "
      ]
     },
     "execution_count": 137,
     "metadata": {},
     "output_type": "execute_result"
    }
   ],
   "source": [
    "# Cambiamos el nombre de los campos que tienen espacios en blanco.\n",
    "wine1 = wine1.rename(columns = {'fixed acidity': 'fixed_acidity',\n",
    "                                'volatile acidity': 'volatile_acidity',\n",
    "                                'citric acid': 'citric_acid',\n",
    "                                'residual sugar': 'residual_sugar',\n",
    "                                'free sulfur dioxide': 'free_sulfur_dioxide',\n",
    "                                'total sulfur dioxide': 'total_sulfur_dioxide',\n",
    "                                })\n",
    "print list(wine1)\n",
    "wine1.head(n = 5)\n"
   ]
  },
  {
   "cell_type": "markdown",
   "metadata": {},
   "source": [
    "### 2.4. Selección de los datos de interés para analizar  "
   ]
  },
  {
   "cell_type": "markdown",
   "metadata": {},
   "source": [
    "De acuerdo con los analisis anteriores, las conclusiones son:\n",
    "   - Los atributos (variables independientes) que tinene algun tipo de relacion con la 'calidad' (variable dependiente, 'quality') son:\n",
    "     - 'volatile acidity'. Tiene una relacion negativa (2)\n",
    "     - 'citric acid'. Tiene una relacion positiva (1)\n",
    "     - 'chlorides'. Tiene una relacion negativa (2)\n",
    "     - 'sulphates'. Tiene una relacion positiva (1)\n",
    "     - 'alcohol'. Tiene una relacion positiva (1)\n",
    "      - (1) Son las variables independientes que tienen una relacion positiva con la variable dependiente, es decir, que crecen a medida que crece esta última.\n",
    "      - (2) Son las variables independientes que tienen una relacion negativa con la variable dependiente, es decir, que decrecen a medida que crece esta última.\n",
    "       \n",
    "   - Como consecuencia del punto anterior, los atributos en los que nos vamos a centrar en el analisis posterior, y que asignaré a un nuevo dataframe llamado wine2, son:\n",
    "     - 'volatile acidity'. \n",
    "     - 'citric acid'. \n",
    "     - 'chlorides'. \n",
    "     - 'sulphates'.\n",
    "     - 'alcohol'.\n",
    "     - 'quality'"
   ]
  },
  {
   "cell_type": "code",
   "execution_count": 105,
   "metadata": {},
   "outputs": [
    {
     "data": {
      "text/html": [
       "<div>\n",
       "<style scoped>\n",
       "    .dataframe tbody tr th:only-of-type {\n",
       "        vertical-align: middle;\n",
       "    }\n",
       "\n",
       "    .dataframe tbody tr th {\n",
       "        vertical-align: top;\n",
       "    }\n",
       "\n",
       "    .dataframe thead th {\n",
       "        text-align: right;\n",
       "    }\n",
       "</style>\n",
       "<table border=\"1\" class=\"dataframe\">\n",
       "  <thead>\n",
       "    <tr style=\"text-align: right;\">\n",
       "      <th></th>\n",
       "      <th>volatile_acidity</th>\n",
       "      <th>citric_acid</th>\n",
       "      <th>chlorides</th>\n",
       "      <th>sulphates</th>\n",
       "      <th>alcohol</th>\n",
       "      <th>quality</th>\n",
       "    </tr>\n",
       "  </thead>\n",
       "  <tbody>\n",
       "    <tr>\n",
       "      <th>0</th>\n",
       "      <td>0.70</td>\n",
       "      <td>0.00</td>\n",
       "      <td>0.076</td>\n",
       "      <td>0.56</td>\n",
       "      <td>9.4</td>\n",
       "      <td>5</td>\n",
       "    </tr>\n",
       "    <tr>\n",
       "      <th>1</th>\n",
       "      <td>0.88</td>\n",
       "      <td>0.00</td>\n",
       "      <td>0.098</td>\n",
       "      <td>0.68</td>\n",
       "      <td>9.8</td>\n",
       "      <td>5</td>\n",
       "    </tr>\n",
       "    <tr>\n",
       "      <th>2</th>\n",
       "      <td>0.76</td>\n",
       "      <td>0.04</td>\n",
       "      <td>0.092</td>\n",
       "      <td>0.65</td>\n",
       "      <td>9.8</td>\n",
       "      <td>5</td>\n",
       "    </tr>\n",
       "  </tbody>\n",
       "</table>\n",
       "</div>"
      ],
      "text/plain": [
       "   volatile_acidity  citric_acid  chlorides  sulphates  alcohol  quality\n",
       "0              0.70         0.00      0.076       0.56      9.4        5\n",
       "1              0.88         0.00      0.098       0.68      9.8        5\n",
       "2              0.76         0.04      0.092       0.65      9.8        5"
      ]
     },
     "execution_count": 105,
     "metadata": {},
     "output_type": "execute_result"
    }
   ],
   "source": [
    "# Creo un nuevo dataframe con laa columnas de interés definas anteriormente\n",
    "wine2 = wine1[['volatile_acidity', 'citric_acid',\n",
    "               'chlorides', 'sulphates', 'alcohol', 'quality']]\n",
    "# Mostramos las 3 primeras filas con la cabecera\n",
    "wine2.head(n=3)\n",
    "\n",
    "\n"
   ]
  },
  {
   "cell_type": "markdown",
   "metadata": {},
   "source": [
    "## 3.- Limpieza de los datos."
   ]
  },
  {
   "cell_type": "markdown",
   "metadata": {},
   "source": [
    "### 3.1. Análisis de valores perdidos.  ¿Los datos contienen ceros o elementos vacíos? ¿Cómo gestionarías cada uno de estos casos?  ",
    "\n"
   ]
  },
  {
   "cell_type": "markdown",
   "metadata": {},
   "source": [
    "De acuerdo con todo lo analizado hasta el momento, hemos de resaltar 2 consideraciones con relacion a los valores perddidos: \n",
    "- Este dataser no debería tener valores nulos porque todos los atributos están definidos como 'non-null' y por tanto no podrían guardarse (no obstante lo confirmaremos).\n",
    "- La exitencia de valores '0' que encubran valores nulos sólo se pueden dar en la propiedad 'citric acid', ya que:\n",
    " - todos los valores contemplados en este dataset son de tipo numérico y sólo positivos. \n",
    " - y de acuerdo con los estadisticos básicos, el único atributo que tiene un valor minimo igual a '0' es este atributo."
   ]
  },
  {
   "cell_type": "code",
   "execution_count": 106,
   "metadata": {},
   "outputs": [
    {
     "name": "stdout",
     "output_type": "stream",
     "text": [
      "fixed_acidity           False\n",
      "volatile_acidity        False\n",
      "citric_acid             False\n",
      "residual_sugar          False\n",
      "chlorides               False\n",
      "free_sulfur_dioxide     False\n",
      "total_sulfur_dioxide    False\n",
      "density                 False\n",
      "pH                      False\n",
      "sulphates               False\n",
      "alcohol                 False\n",
      "quality                 False\n",
      "dtype: bool\n"
     ]
    }
   ],
   "source": [
    "# Comprobacion de la existencia de valores nulos.\n",
    "# Para cada columna del dataframe nos indica si hay algun registro nulo\n",
    "print wine1.isnull().any()   \n",
    "\n"
   ]
  },
  {
   "cell_type": "code",
   "execution_count": 130,
   "metadata": {},
   "outputs": [
    {
     "name": "stdout",
     "output_type": "stream",
     "text": [
      "El numero de muestras con valor 0 en el atributo \"citric acid\" son: 132\n",
      "El porcentaje de valores 0 sobre el total de las muestras es de:  8.25515947467\n"
     ]
    }
   ],
   "source": [
    "# Vamos a ver cuantos valores igual a '0' tiene el atributo 'citric acid'\n",
    "ca0 = wine1[wine1.citric_acid == 0]\n",
    "print 'El numero de muestras con valor 0 en el atributo \"citric acid\" son:', len(ca0)\n",
    "print 'El porcentaje de valores 0 sobre el total de las muestras es de: ', (float(len(ca0))/float(len(wine1))*100)\n"
   ]
  },
  {
   "cell_type": "markdown",
   "metadata": {},
   "source": [
    "De acuerdo con expertos en este negocio, el carácter ácido del vino marca una de las características más importantes de la fase gustativa del análisis sensorial: el equilibrio ácido-dulce en vinos blancos. Uno de estos ácidos es el acido cítrico ('citric acid') que se encuentra de forma natural en ellos, sobretodo en aquellos que no han realizado la fermentación maloláctica.\n",
    "\n",
    "Dada la importancia de la acidez en el vino y del porcentaje que supone los valores 0 en el atributo 'citric_acid' que supone un 8,25% (porcentaje significativo), vamos a transformar dichos valores de acuerdo con un criterio que aporte informacion razonable, ya que de lo contrario, dichos valores produciran un efecto negativo en el análisis, ya que considero que  en realidad esconden valores nulos. \n",
    "\n"
   ]
  },
  {
   "cell_type": "code",
   "execution_count": null,
   "metadata": {},
   "outputs": [],
   "source": [
    "# "
   ]
  },
  {
   "cell_type": "markdown",
   "metadata": {},
   "source": [
    "### 3.2.  Identificación y tratamiento de valores extremos.  "
   ]
  },
  {
   "cell_type": "markdown",
   "metadata": {},
   "source": [
    "## 4.- Análisis de los datos."
   ]
  },
  {
   "cell_type": "markdown",
   "metadata": {},
   "source": [
    "- 4.1.  Selección de los grupos de datos que se quieren analizar/comparar (planificación de los análisis a aplicar).  ",
    "\n",
    "- 4.2.  Comprobación de la normalidad y homogeneidad de la varianza.  ",
    "\n",
    "- 4.3.  Aplicación de pruebas estadísticas para comparar los grupos de datos. En función de los datos y el objetivo del estudio, aplicar pruebas de contraste de  ",
    "hipótesis, correlaciones, regresiones, etc. "
   ]
  },
  {
   "cell_type": "code",
   "execution_count": null,
   "metadata": {},
   "outputs": [],
   "source": []
  },
  {
   "cell_type": "markdown",
   "metadata": {},
   "source": [
    "## 5.- Representación de los resultados a partir de tablas y gráficas."
   ]
  },
  {
   "cell_type": "code",
   "execution_count": null,
   "metadata": {},
   "outputs": [],
   "source": []
  },
  {
   "cell_type": "markdown",
   "metadata": {},
   "source": [
    "## 6.- Resolución del problema. Conclusiones"
   ]
  },
  {
   "cell_type": "markdown",
   "metadata": {},
   "source": [
    "A partir de los resultados obtenidos, ¿cuáles son las  ",
    "conclusiones? ¿Los resultados permiten responder al problema? "
   ]
  },
  {
   "cell_type": "markdown",
   "metadata": {},
   "source": [
    "Relación con la calidad del vino son: alcohol, acidez fija, dióxido de azufre libre, azúcar residual y acidez volátil. El ácido cítrico y los sulfatos también son variables que tienen relación causal con la calidad del vino, pero no con la misma fuerza que la los anteriores."
   ]
  },
  {
   "cell_type": "markdown",
   "metadata": {},
   "source": [
    "Como se menciona en todos los estudios que tratan\n",
    "predicción de la calidad del vino, los resultados son realmente\n",
    "Relevante para diferentes aspectos de la industria del vino.\n",
    "Por un lado una buena predicción puede ser muy\n",
    "Útil en la fase de certificación. Por otra parte,\n",
    "Tal sistema de predicción también puede ser útil para\n",
    "Formación de estudiantes de enología o de marketing.\n",
    "fines"
   ]
  },
  {
   "cell_type": "markdown",
   "metadata": {},
   "source": [
    "## 7.- Código"
   ]
  },
  {
   "cell_type": "markdown",
   "metadata": {},
   "source": [
    "Hay que adjuntar el código, preferiblemente en R, con el que se ha realizado la  ",
    "limpieza, análisis y representación de los datos. Si lo preferís, también podéis trabajar en Python.  "
   ]
  },
  {
   "cell_type": "code",
   "execution_count": null,
   "metadata": {},
   "outputs": [],
   "source": []
  }
 ],
 "metadata": {
  "kernelspec": {
   "display_name": "Python 2",
   "language": "python",
   "name": "python2"
  },
  "language_info": {
   "codemirror_mode": {
    "name": "ipython",
    "version": 2
   },
   "file_extension": ".py",
   "mimetype": "text/x-python",
   "name": "python",
   "nbconvert_exporter": "python",
   "pygments_lexer": "ipython2",
   "version": "2.7.15"
  }
 },
 "nbformat": 4,
 "nbformat_minor": 2
}
